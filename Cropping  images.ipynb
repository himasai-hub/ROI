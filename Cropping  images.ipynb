{
 "cells": [
  {
   "cell_type": "markdown",
   "id": "7288678f",
   "metadata": {},
   "source": [
    "## Cropping images with ROI method then using pytesseract to make it as a text \n"
   ]
  },
  {
   "cell_type": "code",
   "execution_count": 1,
   "id": "82c002cf",
   "metadata": {},
   "outputs": [],
   "source": [
    "import cv2\n",
    "import numpy as np"
   ]
  },
  {
   "cell_type": "code",
   "execution_count": 2,
   "id": "c469d80d",
   "metadata": {},
   "outputs": [],
   "source": [
    " #image_path\n",
    "img_path=\"pan_card.jpg\"\n",
    "\n",
    "#read image\n",
    "img_raw = cv2.imread(img_path)\n",
    "#resize image\n",
    "#img_raw = cv2.resize(img_raw, (600, 600))#resize image if you need when region does't fit crop it\n"
   ]
  },
  {
   "cell_type": "code",
   "execution_count": 3,
   "id": "3855ddd7",
   "metadata": {},
   "outputs": [
    {
     "name": "stdout",
     "output_type": "stream",
     "text": [
      "[[  8  78 210  50]\n",
      " [ 14 225 205  61]\n",
      " [ 19 173 165  41]\n",
      " [ 14 129 230  40]]\n"
     ]
    }
   ],
   "source": [
    "#select ROIs function\n",
    "ROIs = cv2.selectROIs(\"Select Rois\",img_raw)\n",
    "\n",
    "#print rectangle points of selected roi\n",
    "print(ROIs)\n",
    "\n",
    "#Crop selected roi ffrom raw image\n",
    "\n",
    "#counter to save image with different name\n",
    "crop_number=0 "
   ]
  },
  {
   "cell_type": "code",
   "execution_count": 4,
   "id": "aa3f686e",
   "metadata": {},
   "outputs": [],
   "source": [
    "#loop over every bounding box save in array \"ROIs\"\n",
    "for rect in ROIs:\n",
    "    x1=rect[0]\n",
    "    y1=rect[1]\n",
    "    x2=rect[2]\n",
    "    y2=rect[3]\n",
    "\n",
    "        #crop roi from original image\n",
    "    img_crop=img_raw[y1:y1+y2,x1:x1+x2]\n",
    "\n",
    "        #show cropped image\n",
    "    cv2.imshow(\"crop\"+str(crop_number),img_crop)\n",
    "\n",
    "#save cropped image\n",
    "    cv2.imwrite(\"crop\"+str(crop_number)+\".jpeg\",img_crop)\n",
    "        \n",
    "    crop_number+=1\n",
    "\n",
    "#hold window\n",
    "cv2.waitKey(0)\n",
    "cv2.destroyAllWindows()"
   ]
  },
  {
   "cell_type": "code",
   "execution_count": 5,
   "id": "d278526e",
   "metadata": {},
   "outputs": [],
   "source": [
    "import cv2 \n",
    "import pytesseract\n",
    "\n",
    "#it's important to locate the file where the ocr software as been installed else Pytesseract shows like not installed or unable to locate the path\n",
    "pytesseract.pytesseract.tesseract_cmd=r'C:\\\\Program Files\\\\Tesseract-OCR\\\\tesseract.exe'"
   ]
  },
  {
   "cell_type": "code",
   "execution_count": 6,
   "id": "453d368f",
   "metadata": {},
   "outputs": [],
   "source": [
    "img_1 = cv2.imread('crop0.jpeg')\n",
    "text_1=pytesseract.image_to_string(img_1)"
   ]
  },
  {
   "cell_type": "code",
   "execution_count": 9,
   "id": "f978927c",
   "metadata": {},
   "outputs": [],
   "source": [
    "img_2 = cv2.imread('crop1.jpeg')\n",
    "text_2=pytesseract.image_to_string(img_2)\n",
    "img_3 = cv2.imread('crop2.jpeg')\n",
    "text_3=pytesseract.image_to_string(img_3)\n",
    "img_4 = cv2.imread('crop3.jpeg')\n",
    "text_4=pytesseract.image_to_string(img_4)"
   ]
  },
  {
   "cell_type": "code",
   "execution_count": 10,
   "id": "68226f89",
   "metadata": {},
   "outputs": [
    {
     "name": "stdout",
     "output_type": "stream",
     "text": [
      "RAHUL GUPTA\n",
      "\f",
      " ABCDE1234F\n",
      "\f",
      " 23/11/1974\n",
      "\f",
      " SURESH GUPTA\n",
      "\f",
      "\n"
     ]
    }
   ],
   "source": [
    "print(text_1,text_2,text_3,text_4)"
   ]
  },
  {
   "cell_type": "code",
   "execution_count": 11,
   "id": "60a71f17",
   "metadata": {},
   "outputs": [],
   "source": [
    "df=[text_1,text_2,text_3,text_4] #saving the text has  as dataframe"
   ]
  },
  {
   "cell_type": "code",
   "execution_count": 12,
   "id": "349b7b73",
   "metadata": {},
   "outputs": [],
   "source": [
    "import pandas as pd"
   ]
  },
  {
   "cell_type": "code",
   "execution_count": 13,
   "id": "777c7819",
   "metadata": {},
   "outputs": [],
   "source": [
    "dict =[text_1,text_2,text_3,text_4]\n",
    "     \n",
    "df = pd.DataFrame(dict)\n",
    "  \n",
    "# saving the dataframe\n",
    "df.to_csv('pan.csv')"
   ]
  },
  {
   "cell_type": "code",
   "execution_count": 15,
   "id": "dad539c3",
   "metadata": {},
   "outputs": [
    {
     "data": {
      "text/html": [
       "<div>\n",
       "<style scoped>\n",
       "    .dataframe tbody tr th:only-of-type {\n",
       "        vertical-align: middle;\n",
       "    }\n",
       "\n",
       "    .dataframe tbody tr th {\n",
       "        vertical-align: top;\n",
       "    }\n",
       "\n",
       "    .dataframe thead th {\n",
       "        text-align: right;\n",
       "    }\n",
       "</style>\n",
       "<table border=\"1\" class=\"dataframe\">\n",
       "  <thead>\n",
       "    <tr style=\"text-align: right;\">\n",
       "      <th></th>\n",
       "      <th>0</th>\n",
       "    </tr>\n",
       "  </thead>\n",
       "  <tbody>\n",
       "    <tr>\n",
       "      <th>0</th>\n",
       "      <td>RAHUL GUPTA\\n</td>\n",
       "    </tr>\n",
       "    <tr>\n",
       "      <th>1</th>\n",
       "      <td>ABCDE1234F\\n</td>\n",
       "    </tr>\n",
       "    <tr>\n",
       "      <th>2</th>\n",
       "      <td>23/11/1974\\n</td>\n",
       "    </tr>\n",
       "    <tr>\n",
       "      <th>3</th>\n",
       "      <td>SURESH GUPTA\\n</td>\n",
       "    </tr>\n",
       "  </tbody>\n",
       "</table>\n",
       "</div>"
      ],
      "text/plain": [
       "                 0\n",
       "0   RAHUL GUPTA\\n\n",
       "\n",
       "1    ABCDE1234F\\n\n",
       "\n",
       "2    23/11/1974\\n\n",
       "\n",
       "3  SURESH GUPTA\\n"
      ]
     },
     "execution_count": 15,
     "metadata": {},
     "output_type": "execute_result"
    }
   ],
   "source": [
    "df #you can edit the dataframe by creating a spreate col for name,last name and pan mumber"
   ]
  },
  {
   "cell_type": "code",
   "execution_count": null,
   "id": "2fff9e7c",
   "metadata": {},
   "outputs": [],
   "source": []
  }
 ],
 "metadata": {
  "kernelspec": {
   "display_name": "Python 3",
   "language": "python",
   "name": "python3"
  },
  "language_info": {
   "codemirror_mode": {
    "name": "ipython",
    "version": 3
   },
   "file_extension": ".py",
   "mimetype": "text/x-python",
   "name": "python",
   "nbconvert_exporter": "python",
   "pygments_lexer": "ipython3",
   "version": "3.8.8"
  }
 },
 "nbformat": 4,
 "nbformat_minor": 5
}
